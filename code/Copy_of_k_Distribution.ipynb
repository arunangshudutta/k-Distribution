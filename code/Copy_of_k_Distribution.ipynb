{
  "cells": [
    {
      "cell_type": "markdown",
      "metadata": {
        "id": "view-in-github",
        "colab_type": "text"
      },
      "source": [
        "<a href=\"https://colab.research.google.com/github/arunangshudutta/k-Distribution/blob/main/code/Copy_of_k_Distribution.ipynb\" target=\"_parent\"><img src=\"https://colab.research.google.com/assets/colab-badge.svg\" alt=\"Open In Colab\"/></a>"
      ]
    },
    {
      "cell_type": "code",
      "source": [
        "!git clone https://github.com/mf1024/ImageNet-Datasets-Downloader"
      ],
      "metadata": {
        "id": "-4mDCiuoMi9Q",
        "colab": {
          "base_uri": "https://localhost:8080/"
        },
        "outputId": "77c1d31e-382f-4cea-f16d-574f03263e92"
      },
      "id": "-4mDCiuoMi9Q",
      "execution_count": 1,
      "outputs": [
        {
          "output_type": "stream",
          "name": "stdout",
          "text": [
            "Cloning into 'ImageNet-Datasets-Downloader'...\n",
            "remote: Enumerating objects: 130, done.\u001b[K\n",
            "remote: Counting objects: 100% (17/17), done.\u001b[K\n",
            "remote: Compressing objects: 100% (13/13), done.\u001b[K\n",
            "remote: Total 130 (delta 5), reused 6 (delta 2), pack-reused 113 (from 1)\u001b[K\n",
            "Receiving objects: 100% (130/130), 1.58 MiB | 9.28 MiB/s, done.\n",
            "Resolving deltas: 100% (69/69), done.\n"
          ]
        }
      ]
    },
    {
      "cell_type": "code",
      "source": [
        "%cd ImageNet-Datasets-Downloader"
      ],
      "metadata": {
        "id": "fFS4NVVhNYUt",
        "colab": {
          "base_uri": "https://localhost:8080/"
        },
        "outputId": "53b75da9-1c3d-43a3-d95b-25fe40cb1b48"
      },
      "id": "fFS4NVVhNYUt",
      "execution_count": 2,
      "outputs": [
        {
          "output_type": "stream",
          "name": "stdout",
          "text": [
            "/content/ImageNet-Datasets-Downloader\n"
          ]
        }
      ]
    },
    {
      "cell_type": "code",
      "source": [
        "!python ./downloader.py -data_root /content/ -use_class_list True -class_list n02690373 n02132136 -images_per_class 1000"
      ],
      "metadata": {
        "id": "r25144BxMop1",
        "colab": {
          "base_uri": "https://localhost:8080/"
        },
        "outputId": "08a3ef8f-2f09-4d5b-dcf6-c4a3f5fb201d"
      },
      "id": "r25144BxMop1",
      "execution_count": 4,
      "outputs": [
        {
          "output_type": "stream",
          "name": "stdout",
          "text": [
            "Picked the following clases:\n",
            "['airliner', 'brown bear']\n",
            "Scraping images for class \"airliner\"\n",
            "Multiprocessing workers: 8\n",
            "\n",
            "Scraping stats:\n",
            "STATS For class is_flickr:\n",
            " tried 242.0 urls with 214.0 successes\n",
            "88.4297520661157% success rate for is_flickr urls \n",
            "0.4230626687825283 seconds spent per is_flickr succesful image download\n",
            "STATS For class not_flickr:\n",
            " tried 0.0 urls with 0.0 successes\n",
            "STATS For class all:\n",
            " tried 242.0 urls with 214.0 successes\n",
            "88.4297520661157% success rate for all urls \n",
            "0.4230630375514521 seconds spent per all succesful image download\n",
            "\n",
            "Scraping stats:\n",
            "STATS For class is_flickr:\n",
            " tried 492.0 urls with 428.0 successes\n",
            "86.99186991869918% success rate for is_flickr urls \n",
            "0.24198830517652992 seconds spent per is_flickr succesful image download\n",
            "STATS For class not_flickr:\n",
            " tried 0.0 urls with 0.0 successes\n",
            "STATS For class all:\n",
            " tried 492.0 urls with 428.0 successes\n",
            "86.99186991869918% success rate for all urls \n",
            "0.24198852187005163 seconds spent per all succesful image download\n",
            "\n",
            "Scraping stats:\n",
            "STATS For class is_flickr:\n",
            " tried 742.0 urls with 598.0 successes\n",
            "80.59299191374663% success rate for is_flickr urls \n",
            "0.19131885324433495 seconds spent per is_flickr succesful image download\n",
            "STATS For class not_flickr:\n",
            " tried 0.0 urls with 0.0 successes\n",
            "STATS For class all:\n",
            " tried 742.0 urls with 598.0 successes\n",
            "80.59299191374663% success rate for all urls \n",
            "0.19131917897674153 seconds spent per all succesful image download\n",
            "\n",
            "Scraping stats:\n",
            "STATS For class is_flickr:\n",
            " tried 994.0 urls with 626.0 successes\n",
            "62.97786720321932% success rate for is_flickr urls \n",
            "0.19383110520176994 seconds spent per is_flickr succesful image download\n",
            "STATS For class not_flickr:\n",
            " tried 0.0 urls with 0.0 successes\n",
            "STATS For class all:\n",
            " tried 994.0 urls with 626.0 successes\n",
            "62.97786720321932% success rate for all urls \n",
            "0.19383129372764318 seconds spent per all succesful image download\n",
            "Scraping images for class \"brown bear\"\n",
            "Multiprocessing workers: 8\n",
            "\n",
            "Scraping stats:\n",
            "STATS For class is_flickr:\n",
            " tried 1242.0 urls with 684.0 successes\n",
            "55.072463768115945% success rate for is_flickr urls \n",
            "0.290299561985752 seconds spent per is_flickr succesful image download\n",
            "STATS For class not_flickr:\n",
            " tried 0.0 urls with 0.0 successes\n",
            "STATS For class all:\n",
            " tried 1242.0 urls with 684.0 successes\n",
            "55.072463768115945% success rate for all urls \n",
            "0.290299716051559 seconds spent per all succesful image download\n",
            "\n",
            "Scraping stats:\n",
            "STATS For class is_flickr:\n",
            " tried 1492.0 urls with 684.0 successes\n",
            "45.84450402144772% success rate for is_flickr urls \n",
            "0.30058575129648396 seconds spent per is_flickr succesful image download\n",
            "STATS For class not_flickr:\n",
            " tried 0.0 urls with 0.0 successes\n",
            "STATS For class all:\n",
            " tried 1492.0 urls with 684.0 successes\n",
            "45.84450402144772% success rate for all urls \n",
            "0.30058592697333175 seconds spent per all succesful image download\n",
            "\n",
            "Scraping stats:\n",
            "STATS For class is_flickr:\n",
            " tried 1742.0 urls with 684.0 successes\n",
            "39.26521239954076% success rate for is_flickr urls \n",
            "0.30912011757231594 seconds spent per is_flickr succesful image download\n",
            "STATS For class not_flickr:\n",
            " tried 0.0 urls with 0.0 successes\n",
            "STATS For class all:\n",
            " tried 1742.0 urls with 684.0 successes\n",
            "39.26521239954076% success rate for all urls \n",
            "0.3091202845350344 seconds spent per all succesful image download\n"
          ]
        }
      ]
    },
    {
      "cell_type": "code",
      "execution_count": 5,
      "id": "17d2b43e",
      "metadata": {
        "id": "17d2b43e"
      },
      "outputs": [],
      "source": [
        "import os\n",
        "os.environ[\"CUDA_VISIBLE_DEVICES\"] = \"0\"\n",
        "\n",
        "import torch # pip install torch\n",
        "from torch.utils import data\n",
        "from torchvision import models, datasets\n",
        "\n",
        "from tqdm import tqdm\n",
        "import numpy as np\n",
        "import pandas as pd\n",
        "import seaborn as sns\n",
        "import matplotlib.pyplot as plt\n",
        "sns.set_style(\"white\")\n",
        "\n",
        "from scipy.stats import skew # pip install scipy\n",
        "\n",
        "device = torch.device(\"cuda\" if torch.cuda.is_available() else \"cpu\")\n",
        "\n",
        "colors = [(0.0, 1.0, 0.0), (0.8083393600775954, 0.9910098252818546, 0.008454719027349511), (1.0, 0.0, 1.0), (0.8255298200269579, 0.01347223568611633, 0.0015930541073467808), (0.0, 1.0, 1.0), (0.03373412262990616, 0.47508185915422463, 0.20807599885851835), (0.0, 0.5, 1.0), (0.9958064936974211, 0.4750628143642702, 0.7304535784940589), (0.0, 0.0, 1.0), (0.0, 1.0, 0.5), (1.0, 0.5, 0.0), (0.5, 0.75, 0.5), (0.5347093878640534, 0.6118223130929942, 0.004915098046236688), (0.6170227460053966, 0.3274789280253205, 0.9936448615460967), (0.5372751462647845, 0.9466478885411327, 0.9523922512621626), (0.40458390488016094, 0.11498666466400409, 0.6082136601625988)]\n",
        "\n",
        "sns.set_palette(colors)\n",
        "\n",
        "subset_labels = ['Airplane', 'Bear', 'Bicycle', 'Bird', 'Boat', 'Bottle', 'Car', 'Cat', 'Chair', 'Clock', 'Dog', 'Elephant', 'Keyboard', 'Knife', 'Oven', 'Truck']\n",
        "n_components = 2"
      ]
    },
    {
      "cell_type": "code",
      "source": [
        "import os\n",
        "\n",
        "def get_folder_names(directory_path):\n",
        "    folder_names = [item for item in os.listdir(directory_path) if os.path.isdir(os.path.join(directory_path, item))]\n",
        "    return folder_names\n",
        "\n",
        "# Example usage\n",
        "directory_path = \"/content/imagenet_images\"\n",
        "subset_labels = get_folder_names(directory_path)\n",
        "print(\"List of folders:\", subset_labels)"
      ],
      "metadata": {
        "colab": {
          "base_uri": "https://localhost:8080/"
        },
        "id": "HmF9w9TuOqjn",
        "outputId": "4b5633a5-1315-4ab7-ec3f-efab2071a5e6"
      },
      "id": "HmF9w9TuOqjn",
      "execution_count": 6,
      "outputs": [
        {
          "output_type": "stream",
          "name": "stdout",
          "text": [
            "List of folders: ['brown bear', 'airliner']\n"
          ]
        }
      ]
    },
    {
      "cell_type": "code",
      "execution_count": 7,
      "metadata": {
        "id": "hZei_AHuLpCw",
        "outputId": "38a900cf-246a-4f64-d905-28c3054d0f7c",
        "colab": {
          "base_uri": "https://localhost:8080/"
        }
      },
      "outputs": [
        {
          "output_type": "stream",
          "name": "stderr",
          "text": [
            "Downloading: \"https://download.pytorch.org/models/resnet50-0676ba61.pth\" to /root/.cache/torch/hub/checkpoints/resnet50-0676ba61.pth\n",
            "100%|██████████| 97.8M/97.8M [00:00<00:00, 139MB/s]\n"
          ]
        },
        {
          "output_type": "execute_result",
          "data": {
            "text/plain": [
              "ResNet(\n",
              "  (conv1): Conv2d(3, 64, kernel_size=(7, 7), stride=(2, 2), padding=(3, 3), bias=False)\n",
              "  (bn1): BatchNorm2d(64, eps=1e-05, momentum=0.1, affine=True, track_running_stats=True)\n",
              "  (relu): ReLU(inplace=True)\n",
              "  (maxpool): MaxPool2d(kernel_size=3, stride=2, padding=1, dilation=1, ceil_mode=False)\n",
              "  (layer1): Sequential(\n",
              "    (0): Bottleneck(\n",
              "      (conv1): Conv2d(64, 64, kernel_size=(1, 1), stride=(1, 1), bias=False)\n",
              "      (bn1): BatchNorm2d(64, eps=1e-05, momentum=0.1, affine=True, track_running_stats=True)\n",
              "      (conv2): Conv2d(64, 64, kernel_size=(3, 3), stride=(1, 1), padding=(1, 1), bias=False)\n",
              "      (bn2): BatchNorm2d(64, eps=1e-05, momentum=0.1, affine=True, track_running_stats=True)\n",
              "      (conv3): Conv2d(64, 256, kernel_size=(1, 1), stride=(1, 1), bias=False)\n",
              "      (bn3): BatchNorm2d(256, eps=1e-05, momentum=0.1, affine=True, track_running_stats=True)\n",
              "      (relu): ReLU(inplace=True)\n",
              "      (downsample): Sequential(\n",
              "        (0): Conv2d(64, 256, kernel_size=(1, 1), stride=(1, 1), bias=False)\n",
              "        (1): BatchNorm2d(256, eps=1e-05, momentum=0.1, affine=True, track_running_stats=True)\n",
              "      )\n",
              "    )\n",
              "    (1): Bottleneck(\n",
              "      (conv1): Conv2d(256, 64, kernel_size=(1, 1), stride=(1, 1), bias=False)\n",
              "      (bn1): BatchNorm2d(64, eps=1e-05, momentum=0.1, affine=True, track_running_stats=True)\n",
              "      (conv2): Conv2d(64, 64, kernel_size=(3, 3), stride=(1, 1), padding=(1, 1), bias=False)\n",
              "      (bn2): BatchNorm2d(64, eps=1e-05, momentum=0.1, affine=True, track_running_stats=True)\n",
              "      (conv3): Conv2d(64, 256, kernel_size=(1, 1), stride=(1, 1), bias=False)\n",
              "      (bn3): BatchNorm2d(256, eps=1e-05, momentum=0.1, affine=True, track_running_stats=True)\n",
              "      (relu): ReLU(inplace=True)\n",
              "    )\n",
              "    (2): Bottleneck(\n",
              "      (conv1): Conv2d(256, 64, kernel_size=(1, 1), stride=(1, 1), bias=False)\n",
              "      (bn1): BatchNorm2d(64, eps=1e-05, momentum=0.1, affine=True, track_running_stats=True)\n",
              "      (conv2): Conv2d(64, 64, kernel_size=(3, 3), stride=(1, 1), padding=(1, 1), bias=False)\n",
              "      (bn2): BatchNorm2d(64, eps=1e-05, momentum=0.1, affine=True, track_running_stats=True)\n",
              "      (conv3): Conv2d(64, 256, kernel_size=(1, 1), stride=(1, 1), bias=False)\n",
              "      (bn3): BatchNorm2d(256, eps=1e-05, momentum=0.1, affine=True, track_running_stats=True)\n",
              "      (relu): ReLU(inplace=True)\n",
              "    )\n",
              "  )\n",
              "  (layer2): Sequential(\n",
              "    (0): Bottleneck(\n",
              "      (conv1): Conv2d(256, 128, kernel_size=(1, 1), stride=(1, 1), bias=False)\n",
              "      (bn1): BatchNorm2d(128, eps=1e-05, momentum=0.1, affine=True, track_running_stats=True)\n",
              "      (conv2): Conv2d(128, 128, kernel_size=(3, 3), stride=(2, 2), padding=(1, 1), bias=False)\n",
              "      (bn2): BatchNorm2d(128, eps=1e-05, momentum=0.1, affine=True, track_running_stats=True)\n",
              "      (conv3): Conv2d(128, 512, kernel_size=(1, 1), stride=(1, 1), bias=False)\n",
              "      (bn3): BatchNorm2d(512, eps=1e-05, momentum=0.1, affine=True, track_running_stats=True)\n",
              "      (relu): ReLU(inplace=True)\n",
              "      (downsample): Sequential(\n",
              "        (0): Conv2d(256, 512, kernel_size=(1, 1), stride=(2, 2), bias=False)\n",
              "        (1): BatchNorm2d(512, eps=1e-05, momentum=0.1, affine=True, track_running_stats=True)\n",
              "      )\n",
              "    )\n",
              "    (1): Bottleneck(\n",
              "      (conv1): Conv2d(512, 128, kernel_size=(1, 1), stride=(1, 1), bias=False)\n",
              "      (bn1): BatchNorm2d(128, eps=1e-05, momentum=0.1, affine=True, track_running_stats=True)\n",
              "      (conv2): Conv2d(128, 128, kernel_size=(3, 3), stride=(1, 1), padding=(1, 1), bias=False)\n",
              "      (bn2): BatchNorm2d(128, eps=1e-05, momentum=0.1, affine=True, track_running_stats=True)\n",
              "      (conv3): Conv2d(128, 512, kernel_size=(1, 1), stride=(1, 1), bias=False)\n",
              "      (bn3): BatchNorm2d(512, eps=1e-05, momentum=0.1, affine=True, track_running_stats=True)\n",
              "      (relu): ReLU(inplace=True)\n",
              "    )\n",
              "    (2): Bottleneck(\n",
              "      (conv1): Conv2d(512, 128, kernel_size=(1, 1), stride=(1, 1), bias=False)\n",
              "      (bn1): BatchNorm2d(128, eps=1e-05, momentum=0.1, affine=True, track_running_stats=True)\n",
              "      (conv2): Conv2d(128, 128, kernel_size=(3, 3), stride=(1, 1), padding=(1, 1), bias=False)\n",
              "      (bn2): BatchNorm2d(128, eps=1e-05, momentum=0.1, affine=True, track_running_stats=True)\n",
              "      (conv3): Conv2d(128, 512, kernel_size=(1, 1), stride=(1, 1), bias=False)\n",
              "      (bn3): BatchNorm2d(512, eps=1e-05, momentum=0.1, affine=True, track_running_stats=True)\n",
              "      (relu): ReLU(inplace=True)\n",
              "    )\n",
              "    (3): Bottleneck(\n",
              "      (conv1): Conv2d(512, 128, kernel_size=(1, 1), stride=(1, 1), bias=False)\n",
              "      (bn1): BatchNorm2d(128, eps=1e-05, momentum=0.1, affine=True, track_running_stats=True)\n",
              "      (conv2): Conv2d(128, 128, kernel_size=(3, 3), stride=(1, 1), padding=(1, 1), bias=False)\n",
              "      (bn2): BatchNorm2d(128, eps=1e-05, momentum=0.1, affine=True, track_running_stats=True)\n",
              "      (conv3): Conv2d(128, 512, kernel_size=(1, 1), stride=(1, 1), bias=False)\n",
              "      (bn3): BatchNorm2d(512, eps=1e-05, momentum=0.1, affine=True, track_running_stats=True)\n",
              "      (relu): ReLU(inplace=True)\n",
              "    )\n",
              "  )\n",
              "  (layer3): Sequential(\n",
              "    (0): Bottleneck(\n",
              "      (conv1): Conv2d(512, 256, kernel_size=(1, 1), stride=(1, 1), bias=False)\n",
              "      (bn1): BatchNorm2d(256, eps=1e-05, momentum=0.1, affine=True, track_running_stats=True)\n",
              "      (conv2): Conv2d(256, 256, kernel_size=(3, 3), stride=(2, 2), padding=(1, 1), bias=False)\n",
              "      (bn2): BatchNorm2d(256, eps=1e-05, momentum=0.1, affine=True, track_running_stats=True)\n",
              "      (conv3): Conv2d(256, 1024, kernel_size=(1, 1), stride=(1, 1), bias=False)\n",
              "      (bn3): BatchNorm2d(1024, eps=1e-05, momentum=0.1, affine=True, track_running_stats=True)\n",
              "      (relu): ReLU(inplace=True)\n",
              "      (downsample): Sequential(\n",
              "        (0): Conv2d(512, 1024, kernel_size=(1, 1), stride=(2, 2), bias=False)\n",
              "        (1): BatchNorm2d(1024, eps=1e-05, momentum=0.1, affine=True, track_running_stats=True)\n",
              "      )\n",
              "    )\n",
              "    (1): Bottleneck(\n",
              "      (conv1): Conv2d(1024, 256, kernel_size=(1, 1), stride=(1, 1), bias=False)\n",
              "      (bn1): BatchNorm2d(256, eps=1e-05, momentum=0.1, affine=True, track_running_stats=True)\n",
              "      (conv2): Conv2d(256, 256, kernel_size=(3, 3), stride=(1, 1), padding=(1, 1), bias=False)\n",
              "      (bn2): BatchNorm2d(256, eps=1e-05, momentum=0.1, affine=True, track_running_stats=True)\n",
              "      (conv3): Conv2d(256, 1024, kernel_size=(1, 1), stride=(1, 1), bias=False)\n",
              "      (bn3): BatchNorm2d(1024, eps=1e-05, momentum=0.1, affine=True, track_running_stats=True)\n",
              "      (relu): ReLU(inplace=True)\n",
              "    )\n",
              "    (2): Bottleneck(\n",
              "      (conv1): Conv2d(1024, 256, kernel_size=(1, 1), stride=(1, 1), bias=False)\n",
              "      (bn1): BatchNorm2d(256, eps=1e-05, momentum=0.1, affine=True, track_running_stats=True)\n",
              "      (conv2): Conv2d(256, 256, kernel_size=(3, 3), stride=(1, 1), padding=(1, 1), bias=False)\n",
              "      (bn2): BatchNorm2d(256, eps=1e-05, momentum=0.1, affine=True, track_running_stats=True)\n",
              "      (conv3): Conv2d(256, 1024, kernel_size=(1, 1), stride=(1, 1), bias=False)\n",
              "      (bn3): BatchNorm2d(1024, eps=1e-05, momentum=0.1, affine=True, track_running_stats=True)\n",
              "      (relu): ReLU(inplace=True)\n",
              "    )\n",
              "    (3): Bottleneck(\n",
              "      (conv1): Conv2d(1024, 256, kernel_size=(1, 1), stride=(1, 1), bias=False)\n",
              "      (bn1): BatchNorm2d(256, eps=1e-05, momentum=0.1, affine=True, track_running_stats=True)\n",
              "      (conv2): Conv2d(256, 256, kernel_size=(3, 3), stride=(1, 1), padding=(1, 1), bias=False)\n",
              "      (bn2): BatchNorm2d(256, eps=1e-05, momentum=0.1, affine=True, track_running_stats=True)\n",
              "      (conv3): Conv2d(256, 1024, kernel_size=(1, 1), stride=(1, 1), bias=False)\n",
              "      (bn3): BatchNorm2d(1024, eps=1e-05, momentum=0.1, affine=True, track_running_stats=True)\n",
              "      (relu): ReLU(inplace=True)\n",
              "    )\n",
              "    (4): Bottleneck(\n",
              "      (conv1): Conv2d(1024, 256, kernel_size=(1, 1), stride=(1, 1), bias=False)\n",
              "      (bn1): BatchNorm2d(256, eps=1e-05, momentum=0.1, affine=True, track_running_stats=True)\n",
              "      (conv2): Conv2d(256, 256, kernel_size=(3, 3), stride=(1, 1), padding=(1, 1), bias=False)\n",
              "      (bn2): BatchNorm2d(256, eps=1e-05, momentum=0.1, affine=True, track_running_stats=True)\n",
              "      (conv3): Conv2d(256, 1024, kernel_size=(1, 1), stride=(1, 1), bias=False)\n",
              "      (bn3): BatchNorm2d(1024, eps=1e-05, momentum=0.1, affine=True, track_running_stats=True)\n",
              "      (relu): ReLU(inplace=True)\n",
              "    )\n",
              "    (5): Bottleneck(\n",
              "      (conv1): Conv2d(1024, 256, kernel_size=(1, 1), stride=(1, 1), bias=False)\n",
              "      (bn1): BatchNorm2d(256, eps=1e-05, momentum=0.1, affine=True, track_running_stats=True)\n",
              "      (conv2): Conv2d(256, 256, kernel_size=(3, 3), stride=(1, 1), padding=(1, 1), bias=False)\n",
              "      (bn2): BatchNorm2d(256, eps=1e-05, momentum=0.1, affine=True, track_running_stats=True)\n",
              "      (conv3): Conv2d(256, 1024, kernel_size=(1, 1), stride=(1, 1), bias=False)\n",
              "      (bn3): BatchNorm2d(1024, eps=1e-05, momentum=0.1, affine=True, track_running_stats=True)\n",
              "      (relu): ReLU(inplace=True)\n",
              "    )\n",
              "  )\n",
              "  (layer4): Sequential(\n",
              "    (0): Bottleneck(\n",
              "      (conv1): Conv2d(1024, 512, kernel_size=(1, 1), stride=(1, 1), bias=False)\n",
              "      (bn1): BatchNorm2d(512, eps=1e-05, momentum=0.1, affine=True, track_running_stats=True)\n",
              "      (conv2): Conv2d(512, 512, kernel_size=(3, 3), stride=(2, 2), padding=(1, 1), bias=False)\n",
              "      (bn2): BatchNorm2d(512, eps=1e-05, momentum=0.1, affine=True, track_running_stats=True)\n",
              "      (conv3): Conv2d(512, 2048, kernel_size=(1, 1), stride=(1, 1), bias=False)\n",
              "      (bn3): BatchNorm2d(2048, eps=1e-05, momentum=0.1, affine=True, track_running_stats=True)\n",
              "      (relu): ReLU(inplace=True)\n",
              "      (downsample): Sequential(\n",
              "        (0): Conv2d(1024, 2048, kernel_size=(1, 1), stride=(2, 2), bias=False)\n",
              "        (1): BatchNorm2d(2048, eps=1e-05, momentum=0.1, affine=True, track_running_stats=True)\n",
              "      )\n",
              "    )\n",
              "    (1): Bottleneck(\n",
              "      (conv1): Conv2d(2048, 512, kernel_size=(1, 1), stride=(1, 1), bias=False)\n",
              "      (bn1): BatchNorm2d(512, eps=1e-05, momentum=0.1, affine=True, track_running_stats=True)\n",
              "      (conv2): Conv2d(512, 512, kernel_size=(3, 3), stride=(1, 1), padding=(1, 1), bias=False)\n",
              "      (bn2): BatchNorm2d(512, eps=1e-05, momentum=0.1, affine=True, track_running_stats=True)\n",
              "      (conv3): Conv2d(512, 2048, kernel_size=(1, 1), stride=(1, 1), bias=False)\n",
              "      (bn3): BatchNorm2d(2048, eps=1e-05, momentum=0.1, affine=True, track_running_stats=True)\n",
              "      (relu): ReLU(inplace=True)\n",
              "    )\n",
              "    (2): Bottleneck(\n",
              "      (conv1): Conv2d(2048, 512, kernel_size=(1, 1), stride=(1, 1), bias=False)\n",
              "      (bn1): BatchNorm2d(512, eps=1e-05, momentum=0.1, affine=True, track_running_stats=True)\n",
              "      (conv2): Conv2d(512, 512, kernel_size=(3, 3), stride=(1, 1), padding=(1, 1), bias=False)\n",
              "      (bn2): BatchNorm2d(512, eps=1e-05, momentum=0.1, affine=True, track_running_stats=True)\n",
              "      (conv3): Conv2d(512, 2048, kernel_size=(1, 1), stride=(1, 1), bias=False)\n",
              "      (bn3): BatchNorm2d(2048, eps=1e-05, momentum=0.1, affine=True, track_running_stats=True)\n",
              "      (relu): ReLU(inplace=True)\n",
              "    )\n",
              "  )\n",
              "  (avgpool): AdaptiveAvgPool2d(output_size=(1, 1))\n",
              "  (fc): Linear(in_features=2048, out_features=1000, bias=True)\n",
              ")"
            ]
          },
          "metadata": {},
          "execution_count": 7
        }
      ],
      "source": [
        "weights = models.ResNet50_Weights.IMAGENET1K_V1\n",
        "model = models.resnet50(weights=weights)\n",
        "model = model.to(device)\n",
        "model.eval()"
      ],
      "id": "hZei_AHuLpCw"
    },
    {
      "cell_type": "code",
      "execution_count": 9,
      "metadata": {
        "id": "vYWIA7VkLpCx"
      },
      "outputs": [],
      "source": [
        "dataset = datasets.ImageFolder(root=directory_path, transform=weights.transforms())\n",
        "data_loader = data.DataLoader(dataset, batch_size=512, shuffle=False, num_workers=2)"
      ],
      "id": "vYWIA7VkLpCx"
    },
    {
      "cell_type": "code",
      "execution_count": 10,
      "metadata": {
        "id": "Xr0seSg3LpCy",
        "outputId": "5f6c80a4-0280-4635-c3a9-c70bd0eb89ce",
        "colab": {
          "base_uri": "https://localhost:8080/"
        }
      },
      "outputs": [
        {
          "output_type": "stream",
          "name": "stderr",
          "text": [
            "100%|██████████| 2/2 [03:40<00:00, 110.08s/it]\n"
          ]
        }
      ],
      "source": [
        "output, target = [], []\n",
        "with torch.no_grad():\n",
        "    for d in tqdm(data_loader):\n",
        "        images, labels = d\n",
        "        images, labels =  images.to(device), labels.to(device)\n",
        "        out = model(images)\n",
        "        output.extend(out)\n",
        "        target.extend(labels.unsqueeze(1))\n",
        "\n",
        "output = torch.stack(output).view(len(output), -1)\n",
        "target = torch.stack(target)[:, 0]"
      ],
      "id": "Xr0seSg3LpCy"
    },
    {
      "cell_type": "code",
      "execution_count": 11,
      "metadata": {
        "id": "S1iry454LpCy"
      },
      "outputs": [],
      "source": [
        "del model, images, labels, dataset, data_loader\n",
        "torch.cuda.empty_cache()"
      ],
      "id": "S1iry454LpCy"
    },
    {
      "cell_type": "code",
      "execution_count": 12,
      "metadata": {
        "id": "xLaYFgMULpCz",
        "outputId": "c4e1b63c-727c-4091-d7e5-e438e68ebc1a",
        "colab": {
          "base_uri": "https://localhost:8080/"
        }
      },
      "outputs": [
        {
          "output_type": "stream",
          "name": "stderr",
          "text": [
            "100%|██████████| 684/684 [00:00<00:00, 8461.27it/s]\n"
          ]
        }
      ],
      "source": [
        "def check_heterogenity(data):\n",
        "    for i, l in enumerate(data):\n",
        "        if l != data[0]:\n",
        "            return i\n",
        "\n",
        "dist = torch.cdist(output, output, p=2)\n",
        "sort = torch.argsort(dist, dim=1)\n",
        "sorted_labels = torch.gather(torch.stack([target[:sort.shape[1]]] * sort.shape[0]), 1, sort)\n",
        "sorted_labels = sorted_labels.detach().cpu().numpy()\n",
        "_target = target.detach().cpu().numpy()\n",
        "\n",
        "kvalues = np.array([check_heterogenity(x) for x in tqdm(sorted_labels)]).astype(np.float32)\n",
        "\n",
        "skew_threshold = 0.5\n",
        "\n",
        "mean, std, skew_data, pattern = [], [], [], []\n",
        "for c in sorted(np.unique(_target)):\n",
        "    idx = np.where(_target == c)[0]\n",
        "    n = len(idx)\n",
        "\n",
        "    kvalues[idx] = kvalues[idx]/n\n",
        "    c_kdistribution = kvalues[idx]\n",
        "\n",
        "    mean.append(c_kdistribution.mean())\n",
        "    std.append(c_kdistribution.std())\n",
        "\n",
        "    # c_kdistribution = np.array(list(c_kdistribution) + [0.0, 1.0])\n",
        "    skew_value = skew(c_kdistribution)\n",
        "\n",
        "    if np.isnan(skew_value):\n",
        "        if c_kdistribution[0] == 1.0:\n",
        "            skew_value = -np.inf\n",
        "        elif c_kdistribution[0] == 0.0:\n",
        "            skew_value = np.inf\n",
        "\n",
        "    skew_data.append(skew_value)\n",
        "\n",
        "    if skew_value < -skew_threshold:\n",
        "        pattern.append(\"Clustered\")\n",
        "    elif skew_value > skew_threshold:\n",
        "        pattern.append(\"Fractured\")\n",
        "    else:\n",
        "        pattern.append(\"Overlapped\")\n",
        "\n",
        "mean, std, skew_data = np.array(mean), np.array(std), np.array(skew_data)\n",
        "skew_data = np.nan_to_num(skew_data, nan=0.0, posinf=np.nanmax(skew_data[skew_data != np.inf]), neginf=np.nanmin(skew_data[skew_data != -np.inf]))"
      ],
      "id": "xLaYFgMULpCz"
    },
    {
      "cell_type": "code",
      "execution_count": 13,
      "metadata": {
        "id": "bhiqQloiLpCz",
        "outputId": "568b37c3-0104-447f-f547-86566a50c6f0",
        "colab": {
          "base_uri": "https://localhost:8080/",
          "height": 1000
        }
      },
      "outputs": [
        {
          "output_type": "display_data",
          "data": {
            "text/plain": [
              "<Figure size 500x1600 with 1 Axes>"
            ],
            "image/png": "[encoded data removed]"
          },
          "metadata": {}
        }
      ],
      "source": [
        "named_target = [subset_labels[x] for x in _target]\n",
        "ddf = pd.DataFrame({\"k*\": kvalues, \"Selected ImageNet-16 Classes\": named_target})\n",
        "\n",
        "named_values = subset_labels # [\"Airplane\", \"Bicycle\", \"Car\", \"Dog\", \"Elephant\", \"Truck\"]\n",
        "df = ddf.loc[ddf['Selected ImageNet-16 Classes'].isin(named_values)]\n",
        "\n",
        "x = df.groupby(['Selected ImageNet-16 Classes'])['k*'].mean().values\n",
        "nobs = [\"Skew = \" + str(x.round(2)) for x in skew_data[[subset_labels.index(i) for i in named_values]]]\n",
        "\n",
        "fig = plt.figure(num=1, clear=True, figsize=(5, 16))\n",
        "ax = fig.subplots()\n",
        "\n",
        "sns.violinplot(data=df, y=\"Selected ImageNet-16 Classes\", x=\"k*\", orient='h', cut=0,  inner=None, fill=False, saturation=0.5, ax=ax)\n",
        "\n",
        "for i, violin in enumerate(ax.collections):\n",
        "    violin.set_alpha(0.7)\n",
        "    violin.set_edgecolor(\"black\")\n",
        "\n",
        "sns.boxenplot(data=df, y=\"Selected ImageNet-16 Classes\", x=\"k*\", orient='h', width=0.1, linewidth=.5, box_kws={'edgecolor':'black'}, line_kws=dict(linewidth=1.5, color=\"none\"), flier_kws=dict(facecolor=\"none\", edgecolor=\"none\", linewidth=.5), ax=ax)\n",
        "\n",
        "ax.set_xlim(0,1)\n",
        "\n",
        "for tick in range(len(nobs)):\n",
        "    ax.text(1.03, tick, nobs[tick], ha='left', va='center', color=\"black\")\n",
        "ax.set(title=\"k* Distributions\")\n",
        "ax.grid()"
      ],
      "id": "bhiqQloiLpCz"
    },
    {
      "cell_type": "code",
      "source": [],
      "metadata": {
        "id": "g0B_I726WijZ"
      },
      "id": "g0B_I726WijZ",
      "execution_count": null,
      "outputs": []
    }
  ],
  "metadata": {
    "kernelspec": {
      "display_name": "Python 3",
      "name": "python3"
    },
    "language_info": {
      "codemirror_mode": {
        "name": "ipython",
        "version": 3
      },
      "file_extension": ".py",
      "mimetype": "text/x-python",
      "name": "python",
      "nbconvert_exporter": "python",
      "pygments_lexer": "ipython3",
      "version": "3.9.15"
    },
    "colab": {
      "provenance": [],
      "gpuType": "V28",
      "include_colab_link": true
    },
    "accelerator": "TPU"
  },
  "nbformat": 4,
  "nbformat_minor": 5
}