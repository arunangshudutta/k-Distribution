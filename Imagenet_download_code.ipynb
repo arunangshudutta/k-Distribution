{
  "nbformat": 4,
  "nbformat_minor": 0,
  "metadata": {
    "colab": {
      "provenance": [],
      "authorship_tag": "ABX9TyMuzmRK9uUX3CXTW6AOY0pW",
      "include_colab_link": true
    },
    "kernelspec": {
      "name": "python3",
      "display_name": "Python 3"
    },
    "language_info": {
      "name": "python"
    }
  },
  "cells": [
    {
      "cell_type": "markdown",
      "metadata": {
        "id": "view-in-github",
        "colab_type": "text"
      },
      "source": [
        "<a href=\"https://colab.research.google.com/github/arunangshudutta/k-Distribution/blob/main/Imagenet_download_code.ipynb\" target=\"_parent\"><img src=\"https://colab.research.google.com/assets/colab-badge.svg\" alt=\"Open In Colab\"/></a>"
      ]
    },
    {
      "cell_type": "markdown",
      "source": [
        "**Clone Repo.** : This repo. allows to download images from specific classes and a specific number of images."
      ],
      "metadata": {
        "id": "buhf64tId9ev"
      }
    },
    {
      "cell_type": "code",
      "execution_count": 1,
      "metadata": {
        "colab": {
          "base_uri": "https://localhost:8080/"
        },
        "id": "N0F4BMMdUhWI",
        "outputId": "b874ca03-f915-4c76-e86a-5dea4516715d"
      },
      "outputs": [
        {
          "output_type": "stream",
          "name": "stdout",
          "text": [
            "Cloning into 'ImageNet-Datasets-Downloader'...\n",
            "remote: Enumerating objects: 130, done.\u001b[K\n",
            "remote: Counting objects: 100% (17/17), done.\u001b[K\n",
            "remote: Compressing objects: 100% (13/13), done.\u001b[K\n",
            "remote: Total 130 (delta 5), reused 6 (delta 2), pack-reused 113 (from 1)\u001b[K\n",
            "Receiving objects: 100% (130/130), 1.58 MiB | 10.21 MiB/s, done.\n",
            "Resolving deltas: 100% (69/69), done.\n"
          ]
        }
      ],
      "source": [
        "!git clone https://github.com/mf1024/ImageNet-Datasets-Downloader"
      ]
    },
    {
      "cell_type": "code",
      "source": [
        "%cd ImageNet-Datasets-Downloader"
      ],
      "metadata": {
        "colab": {
          "base_uri": "https://localhost:8080/"
        },
        "id": "6ur0jiMNU8gw",
        "outputId": "f41b3d96-fa96-47d9-cb72-1b91887ea2d5"
      },
      "execution_count": 2,
      "outputs": [
        {
          "output_type": "stream",
          "name": "stdout",
          "text": [
            "/content/ImageNet-Datasets-Downloader\n"
          ]
        }
      ]
    },
    {
      "cell_type": "markdown",
      "source": [
        "**Mount G-Drive to save downloaded images**"
      ],
      "metadata": {
        "id": "9Rkzp1ecehFu"
      }
    },
    {
      "cell_type": "code",
      "source": [
        "# Load the Drive helper and mount\n",
        "from google.colab import drive\n",
        "drive.mount('/content/drive')"
      ],
      "metadata": {
        "colab": {
          "base_uri": "https://localhost:8080/"
        },
        "id": "TKjzpQMDade9",
        "outputId": "37aaa118-d509-4d20-8f17-0736764ddeea"
      },
      "execution_count": 8,
      "outputs": [
        {
          "output_type": "stream",
          "name": "stdout",
          "text": [
            "Mounted at /content/drive\n"
          ]
        }
      ]
    },
    {
      "cell_type": "code",
      "source": [
        "!ls /content/drive/My\\ Drive/Colab\\ Notebooks/Imagenet"
      ],
      "metadata": {
        "id": "BmL_P3IGasMh"
      },
      "execution_count": 12,
      "outputs": []
    },
    {
      "cell_type": "markdown",
      "source": [
        "**Download**\n",
        "\n",
        "Run download.py\n",
        "\n",
        "!python ./downloader.py -data_root /loaction_in_your_drive/ -use_class_list True -class_list n02690373 n02132136 -images_per_class 50\n",
        "\n",
        "**Following are the class-codes for the classes of interest**\n",
        "\n",
        "n02690373 n02132136 n02835271 n01514859 n02951358 n02823428 n02814533 n02123045 n02791124 n02708093 n02085782 n02504013 n03085013 n03041632 n04111531 n03417042\n"
      ],
      "metadata": {
        "id": "EJaMasTKev8N"
      }
    },
    {
      "cell_type": "code",
      "source": [
        "!python ./downloader.py -data_root /content/drive/My\\ Drive/Colab\\ Notebooks/Imagenet -use_class_list True -class_list n02690373 n02132136 n02835271 n01514859 n02951358 n02823428 n02814533 n02123045 n02791124 n02708093 n02085782 n02504013 n03085013 n03041632 n04111531 n03417042 -images_per_class 50"
      ],
      "metadata": {
        "colab": {
          "base_uri": "https://localhost:8080/"
        },
        "id": "_p9DzSWNVMA_",
        "outputId": "be7f62e7-7435-43b4-b934-18ece848246d"
      },
      "execution_count": 13,
      "outputs": [
        {
          "output_type": "stream",
          "name": "stdout",
          "text": [
            "Picked the following clases:\n",
            "['airliner', 'brown bear', 'bicycle-built-for-two', 'hen', 'canoe', 'beer bottle', 'beach wagon', 'tabby', 'barber chair', 'analog clock', 'Japanese spaniel', 'Indian elephant', 'computer keyboard', 'cleaver', 'rotisserie', 'garbage truck']\n",
            "Scraping images for class \"airliner\"\n",
            "Multiprocessing workers: 8\n",
            "Scraping images for class \"brown bear\"\n",
            "Multiprocessing workers: 8\n",
            "Scraping images for class \"bicycle-built-for-two\"\n",
            "Multiprocessing workers: 8\n",
            "Scraping images for class \"hen\"\n",
            "Multiprocessing workers: 8\n",
            "\n",
            "Scraping stats:\n",
            "STATS For class is_flickr:\n",
            " tried 242.0 urls with 174.0 successes\n",
            "71.90082644628099% success rate for is_flickr urls \n",
            "0.0639755671051727 seconds spent per is_flickr succesful image download\n",
            "STATS For class not_flickr:\n",
            " tried 0.0 urls with 0.0 successes\n",
            "STATS For class all:\n",
            " tried 242.0 urls with 174.0 successes\n",
            "71.90082644628099% success rate for all urls \n",
            "0.06397632483778329 seconds spent per all succesful image download\n",
            "Scraping images for class \"canoe\"\n",
            "Multiprocessing workers: 8\n",
            "Scraping images for class \"beer bottle\"\n",
            "Multiprocessing workers: 8\n",
            "Scraping images for class \"beach wagon\"\n",
            "Multiprocessing workers: 8\n",
            "\n",
            "Scraping stats:\n",
            "STATS For class is_flickr:\n",
            " tried 492.0 urls with 359.0 successes\n",
            "72.96747967479675% success rate for is_flickr urls \n",
            "0.05871177715843434 seconds spent per is_flickr succesful image download\n",
            "STATS For class not_flickr:\n",
            " tried 0.0 urls with 0.0 successes\n",
            "STATS For class all:\n",
            " tried 492.0 urls with 359.0 successes\n",
            "72.96747967479675% success rate for all urls \n",
            "0.058712074019450666 seconds spent per all succesful image download\n",
            "Scraping images for class \"tabby\"\n",
            "Multiprocessing workers: 8\n",
            "Scraping images for class \"barber chair\"\n",
            "Multiprocessing workers: 8\n",
            "Scraping images for class \"analog clock\"\n",
            "Multiprocessing workers: 8\n",
            "\n",
            "Scraping stats:\n",
            "STATS For class is_flickr:\n",
            " tried 742.0 urls with 537.0 successes\n",
            "72.37196765498652% success rate for is_flickr urls \n",
            "0.06518424423047284 seconds spent per is_flickr succesful image download\n",
            "STATS For class not_flickr:\n",
            " tried 0.0 urls with 0.0 successes\n",
            "STATS For class all:\n",
            " tried 742.0 urls with 537.0 successes\n",
            "72.37196765498652% success rate for all urls \n",
            "0.06518450529215722 seconds spent per all succesful image download\n",
            "Scraping images for class \"Japanese spaniel\"\n",
            "Multiprocessing workers: 8\n",
            "Scraping images for class \"Indian elephant\"\n",
            "Multiprocessing workers: 8\n",
            "Scraping images for class \"computer keyboard\"\n",
            "Multiprocessing workers: 8\n",
            "Scraping images for class \"cleaver\"\n",
            "Multiprocessing workers: 8\n",
            "\n",
            "Scraping stats:\n",
            "STATS For class is_flickr:\n",
            " tried 992.0 urls with 714.0 successes\n",
            "71.9758064516129% success rate for is_flickr urls \n",
            "0.07336706507439707 seconds spent per is_flickr succesful image download\n",
            "STATS For class not_flickr:\n",
            " tried 0.0 urls with 0.0 successes\n",
            "STATS For class all:\n",
            " tried 992.0 urls with 714.0 successes\n",
            "71.9758064516129% success rate for all urls \n",
            "0.07336717326434053 seconds spent per all succesful image download\n",
            "Scraping images for class \"rotisserie\"\n",
            "Multiprocessing workers: 8\n",
            "Scraping images for class \"garbage truck\"\n",
            "Multiprocessing workers: 8\n",
            "\n",
            "Scraping stats:\n",
            "STATS For class is_flickr:\n",
            " tried 1242.0 urls with 808.0 successes\n",
            "65.05636070853463% success rate for is_flickr urls \n",
            "0.07740203549366186 seconds spent per is_flickr succesful image download\n",
            "STATS For class not_flickr:\n",
            " tried 0.0 urls with 0.0 successes\n",
            "STATS For class all:\n",
            " tried 1242.0 urls with 808.0 successes\n",
            "65.05636070853463% success rate for all urls \n",
            "0.07740216975164886 seconds spent per all succesful image download\n",
            "\n",
            "Scraping stats:\n",
            "STATS For class is_flickr:\n",
            " tried 1492.0 urls with 811.0 successes\n",
            "54.35656836461126% success rate for is_flickr urls \n",
            "0.08198405135280548 seconds spent per is_flickr succesful image download\n",
            "STATS For class not_flickr:\n",
            " tried 0.0 urls with 0.0 successes\n",
            "STATS For class all:\n",
            " tried 1492.0 urls with 811.0 successes\n",
            "54.35656836461126% success rate for all urls \n",
            "0.08198419069979253 seconds spent per all succesful image download\n",
            "\n",
            "Scraping stats:\n",
            "STATS For class is_flickr:\n",
            " tried 1744.0 urls with 811.0 successes\n",
            "46.50229357798165% success rate for is_flickr urls \n",
            "0.08724112663551264 seconds spent per is_flickr succesful image download\n",
            "STATS For class not_flickr:\n",
            " tried 0.0 urls with 0.0 successes\n",
            "STATS For class all:\n",
            " tried 1744.0 urls with 811.0 successes\n",
            "46.50229357798165% success rate for all urls \n",
            "0.08724124275800185 seconds spent per all succesful image download\n"
          ]
        }
      ]
    },
    {
      "cell_type": "code",
      "source": [],
      "metadata": {
        "id": "yo0x9lSfVt5u"
      },
      "execution_count": null,
      "outputs": []
    }
  ]
}